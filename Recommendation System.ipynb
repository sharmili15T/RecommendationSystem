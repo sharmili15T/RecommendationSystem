{
 "cells": [
  {
   "cell_type": "markdown",
   "id": "ab9ad697",
   "metadata": {},
   "source": [
    "# Contents:\n",
    "\n",
    "- User based prediction\n",
    "\n",
    "- Item based prediction"
   ]
  },
  {
   "cell_type": "code",
   "execution_count": 1,
   "id": "ca6d02f1",
   "metadata": {},
   "outputs": [],
   "source": [
    "import os\n",
    "import pandas as pd\n",
    "import numpy as np\n",
    "import surprise"
   ]
  },
  {
   "cell_type": "markdown",
   "id": "ff496e83",
   "metadata": {},
   "source": [
    "##### Reading data and converting using surprise file\n",
    "\n",
    "--------"
   ]
  },
  {
   "cell_type": "code",
   "execution_count": 2,
   "id": "28564f6f",
   "metadata": {},
   "outputs": [
    {
     "data": {
      "text/html": [
       "<div>\n",
       "<style scoped>\n",
       "    .dataframe tbody tr th:only-of-type {\n",
       "        vertical-align: middle;\n",
       "    }\n",
       "\n",
       "    .dataframe tbody tr th {\n",
       "        vertical-align: top;\n",
       "    }\n",
       "\n",
       "    .dataframe thead th {\n",
       "        text-align: right;\n",
       "    }\n",
       "</style>\n",
       "<table border=\"1\" class=\"dataframe\">\n",
       "  <thead>\n",
       "    <tr style=\"text-align: right;\">\n",
       "      <th></th>\n",
       "      <th>user</th>\n",
       "      <th>rating</th>\n",
       "      <th>item</th>\n",
       "    </tr>\n",
       "  </thead>\n",
       "  <tbody>\n",
       "    <tr>\n",
       "      <th>0</th>\n",
       "      <td>1</td>\n",
       "      <td>2</td>\n",
       "      <td>1</td>\n",
       "    </tr>\n",
       "    <tr>\n",
       "      <th>1</th>\n",
       "      <td>2</td>\n",
       "      <td>2</td>\n",
       "      <td>1</td>\n",
       "    </tr>\n",
       "    <tr>\n",
       "      <th>2</th>\n",
       "      <td>3</td>\n",
       "      <td>3</td>\n",
       "      <td>2</td>\n",
       "    </tr>\n",
       "    <tr>\n",
       "      <th>3</th>\n",
       "      <td>4</td>\n",
       "      <td>3</td>\n",
       "      <td>2</td>\n",
       "    </tr>\n",
       "    <tr>\n",
       "      <th>4</th>\n",
       "      <td>5</td>\n",
       "      <td>1</td>\n",
       "      <td>1</td>\n",
       "    </tr>\n",
       "  </tbody>\n",
       "</table>\n",
       "</div>"
      ],
      "text/plain": [
       "   user  rating  item\n",
       "0     1       2     1\n",
       "1     2       2     1\n",
       "2     3       3     2\n",
       "3     4       3     2\n",
       "4     5       1     1"
      ]
     },
     "execution_count": 2,
     "metadata": {},
     "output_type": "execute_result"
    }
   ],
   "source": [
    "df = pd.read_csv('sample_data.csv')\n",
    "df.head()"
   ]
  },
  {
   "cell_type": "code",
   "execution_count": 3,
   "id": "706b3e04",
   "metadata": {},
   "outputs": [],
   "source": [
    "reader = surprise.dataset.Reader(line_format='user rating item',rating_scale=(1,5))\n",
    "\n",
    "#line format is the format in which the data coloumns are present "
   ]
  },
  {
   "cell_type": "code",
   "execution_count": 4,
   "id": "133e1a85",
   "metadata": {},
   "outputs": [],
   "source": [
    "data = surprise.dataset.Dataset.load_from_df(df,reader=reader)"
   ]
  },
  {
   "cell_type": "code",
   "execution_count": 5,
   "id": "e092f5ab",
   "metadata": {},
   "outputs": [
    {
     "data": {
      "text/plain": [
       "[(1, 2, 1.0, None),\n",
       " (2, 2, 1.0, None),\n",
       " (3, 3, 2.0, None),\n",
       " (4, 3, 2.0, None),\n",
       " (5, 1, 1.0, None)]"
      ]
     },
     "execution_count": 5,
     "metadata": {},
     "output_type": "execute_result"
    }
   ],
   "source": [
    "data.raw_ratings"
   ]
  },
  {
   "cell_type": "markdown",
   "id": "ae118c6b",
   "metadata": {},
   "source": [
    "##### Directly reading the csv file"
   ]
  },
  {
   "cell_type": "code",
   "execution_count": 6,
   "id": "402adde5",
   "metadata": {},
   "outputs": [],
   "source": [
    "#if we directly read from csv it should be present in the specified format\n",
    "\n",
    "reader = surprise.dataset.Reader(line_format='user rating item',sep=',',\n",
    "                                rating_scale=(1,5),skip_lines=1)"
   ]
  },
  {
   "cell_type": "code",
   "execution_count": 7,
   "id": "adf2f715",
   "metadata": {},
   "outputs": [],
   "source": [
    "data1= surprise.dataset.Dataset.load_from_file('sample_data.csv',reader=reader)"
   ]
  },
  {
   "cell_type": "code",
   "execution_count": 8,
   "id": "074981db",
   "metadata": {},
   "outputs": [
    {
     "data": {
      "text/plain": [
       "[('1', '1', 2.0, None),\n",
       " ('2', '1', 2.0, None),\n",
       " ('3', '2', 3.0, None),\n",
       " ('4', '2', 3.0, None),\n",
       " ('5', '1', 1.0, None)]"
      ]
     },
     "execution_count": 8,
     "metadata": {},
     "output_type": "execute_result"
    }
   ],
   "source": [
    "data1.raw_ratings"
   ]
  },
  {
   "cell_type": "code",
   "execution_count": 9,
   "id": "b33c3ccd",
   "metadata": {},
   "outputs": [],
   "source": [
    "data_dir=r'C:\\Users\\tsharmili\\Downloads\\Machine-Learning-main\\Recommendation_Systems\\ml-latest-small'"
   ]
  },
  {
   "cell_type": "code",
   "execution_count": 10,
   "id": "8004c747",
   "metadata": {},
   "outputs": [],
   "source": [
    "os.chdir(data_dir)"
   ]
  },
  {
   "cell_type": "code",
   "execution_count": 11,
   "id": "65ec45b0",
   "metadata": {},
   "outputs": [
    {
     "data": {
      "text/plain": [
       "'C:\\\\Users\\\\tsharmili\\\\Downloads\\\\Machine-Learning-main\\\\Recommendation_Systems\\\\ml-latest-small'"
      ]
     },
     "execution_count": 11,
     "metadata": {},
     "output_type": "execute_result"
    }
   ],
   "source": [
    "os.getcwd()"
   ]
  },
  {
   "cell_type": "code",
   "execution_count": 12,
   "id": "598b1664",
   "metadata": {},
   "outputs": [
    {
     "data": {
      "text/html": [
       "<div>\n",
       "<style scoped>\n",
       "    .dataframe tbody tr th:only-of-type {\n",
       "        vertical-align: middle;\n",
       "    }\n",
       "\n",
       "    .dataframe tbody tr th {\n",
       "        vertical-align: top;\n",
       "    }\n",
       "\n",
       "    .dataframe thead th {\n",
       "        text-align: right;\n",
       "    }\n",
       "</style>\n",
       "<table border=\"1\" class=\"dataframe\">\n",
       "  <thead>\n",
       "    <tr style=\"text-align: right;\">\n",
       "      <th></th>\n",
       "      <th>userId</th>\n",
       "      <th>movieId</th>\n",
       "      <th>rating</th>\n",
       "      <th>timestamp</th>\n",
       "    </tr>\n",
       "  </thead>\n",
       "  <tbody>\n",
       "    <tr>\n",
       "      <th>0</th>\n",
       "      <td>1</td>\n",
       "      <td>31</td>\n",
       "      <td>2.5</td>\n",
       "      <td>1260759144</td>\n",
       "    </tr>\n",
       "    <tr>\n",
       "      <th>1</th>\n",
       "      <td>1</td>\n",
       "      <td>1029</td>\n",
       "      <td>3.0</td>\n",
       "      <td>1260759179</td>\n",
       "    </tr>\n",
       "    <tr>\n",
       "      <th>2</th>\n",
       "      <td>1</td>\n",
       "      <td>1061</td>\n",
       "      <td>3.0</td>\n",
       "      <td>1260759182</td>\n",
       "    </tr>\n",
       "    <tr>\n",
       "      <th>3</th>\n",
       "      <td>1</td>\n",
       "      <td>1129</td>\n",
       "      <td>2.0</td>\n",
       "      <td>1260759185</td>\n",
       "    </tr>\n",
       "    <tr>\n",
       "      <th>4</th>\n",
       "      <td>1</td>\n",
       "      <td>1172</td>\n",
       "      <td>4.0</td>\n",
       "      <td>1260759205</td>\n",
       "    </tr>\n",
       "  </tbody>\n",
       "</table>\n",
       "</div>"
      ],
      "text/plain": [
       "   userId  movieId  rating   timestamp\n",
       "0       1       31     2.5  1260759144\n",
       "1       1     1029     3.0  1260759179\n",
       "2       1     1061     3.0  1260759182\n",
       "3       1     1129     2.0  1260759185\n",
       "4       1     1172     4.0  1260759205"
      ]
     },
     "execution_count": 12,
     "metadata": {},
     "output_type": "execute_result"
    }
   ],
   "source": [
    "mr = pd.read_csv('ratings.csv')\n",
    "mr.head()"
   ]
  },
  {
   "cell_type": "code",
   "execution_count": 13,
   "id": "c0ce2bae",
   "metadata": {},
   "outputs": [],
   "source": [
    "mr.drop('timestamp',axis =1,inplace=True)"
   ]
  },
  {
   "cell_type": "code",
   "execution_count": 14,
   "id": "7fc043a2",
   "metadata": {},
   "outputs": [
    {
     "data": {
      "text/plain": [
       "Index(['userId', 'movieId', 'rating'], dtype='object')"
      ]
     },
     "execution_count": 14,
     "metadata": {},
     "output_type": "execute_result"
    }
   ],
   "source": [
    "mr.columns"
   ]
  },
  {
   "cell_type": "code",
   "execution_count": 15,
   "id": "a0ced068",
   "metadata": {},
   "outputs": [],
   "source": [
    "mr.rename(columns={'userId':'user', 'movieId':'item', 'rating':'rating'},inplace=True)"
   ]
  },
  {
   "cell_type": "code",
   "execution_count": 17,
   "id": "f546ba10",
   "metadata": {},
   "outputs": [],
   "source": [
    "reader = surprise.dataset.Reader(line_format='user item rating',rating_scale=(1,5))"
   ]
  },
  {
   "cell_type": "code",
   "execution_count": 18,
   "id": "2938d8bf",
   "metadata": {},
   "outputs": [],
   "source": [
    "mr_train = surprise.dataset.Dataset.load_from_df(mr,reader= reader)"
   ]
  },
  {
   "cell_type": "markdown",
   "id": "a4eba60f",
   "metadata": {},
   "source": [
    "##### Building Training data"
   ]
  },
  {
   "cell_type": "code",
   "execution_count": 19,
   "id": "310bd4d3",
   "metadata": {},
   "outputs": [],
   "source": [
    "mr_trainset = mr_train.build_full_trainset()"
   ]
  },
  {
   "cell_type": "code",
   "execution_count": 20,
   "id": "6d3c5f95",
   "metadata": {},
   "outputs": [],
   "source": [
    "import surprise.prediction_algorithms.knns as knns"
   ]
  },
  {
   "cell_type": "markdown",
   "id": "c4f26962",
   "metadata": {},
   "source": [
    "## Building a smilarity model"
   ]
  },
  {
   "cell_type": "markdown",
   "id": "6d88eca1",
   "metadata": {},
   "source": [
    "##### Building USER BASED COLLABORATIVE MODEL"
   ]
  },
  {
   "cell_type": "code",
   "execution_count": 21,
   "id": "7dcb61b3",
   "metadata": {},
   "outputs": [],
   "source": [
    "knnbasic = knns.KNNBasic(k=40,min_k=1,sim_options={'name':'cosine',\n",
    "                                                  'user_based':True})"
   ]
  },
  {
   "cell_type": "code",
   "execution_count": 22,
   "id": "6504ed0c",
   "metadata": {},
   "outputs": [
    {
     "name": "stdout",
     "output_type": "stream",
     "text": [
      "Computing the cosine similarity matrix...\n",
      "Done computing similarity matrix.\n"
     ]
    },
    {
     "data": {
      "text/plain": [
       "<surprise.prediction_algorithms.knns.KNNBasic at 0x2408918a970>"
      ]
     },
     "execution_count": 22,
     "metadata": {},
     "output_type": "execute_result"
    }
   ],
   "source": [
    "knnbasic.fit(mr_trainset)"
   ]
  },
  {
   "cell_type": "code",
   "execution_count": 23,
   "id": "29e6e6a6",
   "metadata": {},
   "outputs": [
    {
     "data": {
      "text/html": [
       "<div>\n",
       "<style scoped>\n",
       "    .dataframe tbody tr th:only-of-type {\n",
       "        vertical-align: middle;\n",
       "    }\n",
       "\n",
       "    .dataframe tbody tr th {\n",
       "        vertical-align: top;\n",
       "    }\n",
       "\n",
       "    .dataframe thead th {\n",
       "        text-align: right;\n",
       "    }\n",
       "</style>\n",
       "<table border=\"1\" class=\"dataframe\">\n",
       "  <thead>\n",
       "    <tr style=\"text-align: right;\">\n",
       "      <th></th>\n",
       "      <th>user</th>\n",
       "      <th>item</th>\n",
       "      <th>rating</th>\n",
       "    </tr>\n",
       "  </thead>\n",
       "  <tbody>\n",
       "    <tr>\n",
       "      <th>0</th>\n",
       "      <td>1</td>\n",
       "      <td>31</td>\n",
       "      <td>2.5</td>\n",
       "    </tr>\n",
       "    <tr>\n",
       "      <th>1</th>\n",
       "      <td>1</td>\n",
       "      <td>1029</td>\n",
       "      <td>3.0</td>\n",
       "    </tr>\n",
       "    <tr>\n",
       "      <th>2</th>\n",
       "      <td>1</td>\n",
       "      <td>1061</td>\n",
       "      <td>3.0</td>\n",
       "    </tr>\n",
       "    <tr>\n",
       "      <th>3</th>\n",
       "      <td>1</td>\n",
       "      <td>1129</td>\n",
       "      <td>2.0</td>\n",
       "    </tr>\n",
       "    <tr>\n",
       "      <th>4</th>\n",
       "      <td>1</td>\n",
       "      <td>1172</td>\n",
       "      <td>4.0</td>\n",
       "    </tr>\n",
       "  </tbody>\n",
       "</table>\n",
       "</div>"
      ],
      "text/plain": [
       "   user  item  rating\n",
       "0     1    31     2.5\n",
       "1     1  1029     3.0\n",
       "2     1  1061     3.0\n",
       "3     1  1129     2.0\n",
       "4     1  1172     4.0"
      ]
     },
     "execution_count": 23,
     "metadata": {},
     "output_type": "execute_result"
    }
   ],
   "source": [
    "mr.head()"
   ]
  },
  {
   "cell_type": "code",
   "execution_count": 24,
   "id": "91145971",
   "metadata": {},
   "outputs": [
    {
     "data": {
      "text/plain": [
       "Prediction(uid=1, iid=31, r_ui=2.5, est=3.1834796860227086, details={'actual_k': 40, 'was_impossible': False})"
      ]
     },
     "execution_count": 24,
     "metadata": {},
     "output_type": "execute_result"
    }
   ],
   "source": [
    "knnbasic.predict(uid=1,iid=31,r_ui=2.5)"
   ]
  },
  {
   "cell_type": "code",
   "execution_count": 25,
   "id": "0ff932ef",
   "metadata": {},
   "outputs": [],
   "source": [
    "knnbasic = knns.KNNBasic(k=40,min_k=1,sim_options={'name':'cosine',\n",
    "                                                  'user_based':False})"
   ]
  },
  {
   "cell_type": "code",
   "execution_count": 27,
   "id": "bf00da6c",
   "metadata": {},
   "outputs": [
    {
     "name": "stdout",
     "output_type": "stream",
     "text": [
      "Computing the cosine similarity matrix...\n",
      "Done computing similarity matrix.\n"
     ]
    },
    {
     "data": {
      "text/plain": [
       "<surprise.prediction_algorithms.knns.KNNBasic at 0x24089474580>"
      ]
     },
     "execution_count": 27,
     "metadata": {},
     "output_type": "execute_result"
    }
   ],
   "source": [
    "knnbasic.fit(mr_trainset)"
   ]
  },
  {
   "cell_type": "code",
   "execution_count": 28,
   "id": "bfde2e80",
   "metadata": {},
   "outputs": [
    {
     "data": {
      "text/plain": [
       "Prediction(uid=1, iid=31, r_ui=2.5, est=2.547471538910294, details={'actual_k': 20, 'was_impossible': False})"
      ]
     },
     "execution_count": 28,
     "metadata": {},
     "output_type": "execute_result"
    }
   ],
   "source": [
    "knnbasic.predict(uid=1,iid=31,r_ui=2.5)"
   ]
  },
  {
   "cell_type": "code",
   "execution_count": null,
   "id": "bdcb6875",
   "metadata": {},
   "outputs": [],
   "source": []
  },
  {
   "cell_type": "markdown",
   "id": "77b3ab1c",
   "metadata": {},
   "source": [
    "### Consider the average effects \n",
    "\n",
    "Building the similarity model using the average effects of item based and user based models\n",
    "\n",
    "Here we specify the KNNWithMeans"
   ]
  },
  {
   "cell_type": "code",
   "execution_count": 29,
   "id": "36bf363b",
   "metadata": {},
   "outputs": [],
   "source": [
    "knnbasic = knns.KNNWithMeans(k=40,min_k=1,sim_options={'name':'pearson',\n",
    "                                                  'user_based':False})"
   ]
  },
  {
   "cell_type": "code",
   "execution_count": 30,
   "id": "1562a515",
   "metadata": {},
   "outputs": [
    {
     "name": "stdout",
     "output_type": "stream",
     "text": [
      "Computing the pearson similarity matrix...\n",
      "Done computing similarity matrix.\n"
     ]
    },
    {
     "data": {
      "text/plain": [
       "<surprise.prediction_algorithms.knns.KNNWithMeans at 0x240895d83d0>"
      ]
     },
     "execution_count": 30,
     "metadata": {},
     "output_type": "execute_result"
    }
   ],
   "source": [
    "knnbasic.fit(mr_trainset)"
   ]
  },
  {
   "cell_type": "code",
   "execution_count": 31,
   "id": "d0be1122",
   "metadata": {},
   "outputs": [
    {
     "data": {
      "text/plain": [
       "Prediction(uid=1, iid=31, r_ui=2.5, est=2.18133813941489, details={'actual_k': 17, 'was_impossible': False})"
      ]
     },
     "execution_count": 31,
     "metadata": {},
     "output_type": "execute_result"
    }
   ],
   "source": [
    "knnbasic.predict(uid=1,iid=31,r_ui=2.5)"
   ]
  },
  {
   "cell_type": "code",
   "execution_count": null,
   "id": "beefb6e8",
   "metadata": {},
   "outputs": [],
   "source": []
  },
  {
   "cell_type": "markdown",
   "id": "56367358",
   "metadata": {},
   "source": [
    "### Dividing data into batches\n",
    "\n",
    "Kfold is used to divide the data into batches and evaluate the performance\n"
   ]
  },
  {
   "cell_type": "code",
   "execution_count": null,
   "id": "180c54e2",
   "metadata": {},
   "outputs": [],
   "source": [
    "# split data into batches (3)\n",
    "# train and test taking 2 batches each and testing the 3rd\n"
   ]
  },
  {
   "cell_type": "code",
   "execution_count": 32,
   "id": "1c689938",
   "metadata": {},
   "outputs": [],
   "source": [
    "from surprise.model_selection import KFold\n",
    "from surprise import accuracy"
   ]
  },
  {
   "cell_type": "code",
   "execution_count": 33,
   "id": "99ff15b6",
   "metadata": {},
   "outputs": [
    {
     "name": "stdout",
     "output_type": "stream",
     "text": [
      "Computing the cosine similarity matrix...\n",
      "Done computing similarity matrix.\n",
      "RMSE: 1.0003\n",
      "MAE:  0.7763\n",
      "Computing the cosine similarity matrix...\n",
      "Done computing similarity matrix.\n",
      "RMSE: 0.9909\n",
      "MAE:  0.7730\n",
      "Computing the cosine similarity matrix...\n",
      "Done computing similarity matrix.\n",
      "RMSE: 0.9897\n",
      "MAE:  0.7691\n"
     ]
    }
   ],
   "source": [
    "#number of folds\n",
    "\n",
    "kf= KFold(n_splits=3)\n",
    "\n",
    "knnbasic = knns.KNNBasic(k=40,min_k=1,sim_options={'name':'cosine',\n",
    "                                                  'user_based':False})\n",
    "\n",
    "for trainset ,testset in kf.split(mr_train):\n",
    "    knnbasic.fit(trainset)\n",
    "    predictions = knnbasic.test(testset)\n",
    "    \n",
    "    accuracy.rmse(predictions,verbose=True)\n",
    "    accuracy.mae(predictions,verbose= True)"
   ]
  },
  {
   "cell_type": "code",
   "execution_count": 34,
   "id": "4b6705aa",
   "metadata": {},
   "outputs": [
    {
     "name": "stdout",
     "output_type": "stream",
     "text": [
      "Computing the cosine similarity matrix...\n",
      "Done computing similarity matrix.\n",
      "RMSE: 0.9326\n",
      "MAE:  0.7159\n",
      "Computing the cosine similarity matrix...\n",
      "Done computing similarity matrix.\n",
      "RMSE: 0.9319\n",
      "MAE:  0.7134\n",
      "Computing the cosine similarity matrix...\n",
      "Done computing similarity matrix.\n",
      "RMSE: 0.9367\n",
      "MAE:  0.7191\n"
     ]
    }
   ],
   "source": [
    "#number of folds\n",
    "\n",
    "kf= KFold(n_splits=3)\n",
    "\n",
    "knnbasic = knns.KNNWithMeans(k=40,min_k=1,sim_options={'name':'cosine',\n",
    "                                                  'user_based':False})\n",
    "\n",
    "for trainset ,testset in kf.split(mr_train):\n",
    "    knnbasic.fit(trainset)\n",
    "    predictions = knnbasic.test(testset)\n",
    "    \n",
    "    accuracy.rmse(predictions,verbose=True)\n",
    "    accuracy.mae(predictions,verbose= True)"
   ]
  },
  {
   "cell_type": "code",
   "execution_count": 35,
   "id": "15d2c454",
   "metadata": {},
   "outputs": [
    {
     "name": "stdout",
     "output_type": "stream",
     "text": [
      "Computing the cosine similarity matrix...\n",
      "Done computing similarity matrix.\n",
      "RMSE: 0.9367\n",
      "MAE:  0.7191\n"
     ]
    },
    {
     "data": {
      "text/plain": [
       "0.7191342992092398"
      ]
     },
     "execution_count": 35,
     "metadata": {},
     "output_type": "execute_result"
    }
   ],
   "source": [
    "knnbasic1 = knns.KNNWithMeans(k=40,min_k=1,sim_options={'name':'cosine',\n",
    "                                                  'user_based':False})\n",
    "knnbasic1.fit(trainset)\n",
    "predictions1 = knnbasic.test(testset)\n",
    "    \n",
    "accuracy.rmse(predictions1,verbose=True)\n",
    "accuracy.mae(predictions1,verbose= True)"
   ]
  },
  {
   "cell_type": "code",
   "execution_count": 36,
   "id": "636c9a4b",
   "metadata": {},
   "outputs": [],
   "source": [
    "param_grid = {'k':[10,20],\n",
    "             'sim_options':{'name':['msd','cosine'],'user_based':[False]}}"
   ]
  },
  {
   "cell_type": "code",
   "execution_count": 37,
   "id": "e1a13925",
   "metadata": {},
   "outputs": [],
   "source": [
    "algo = knns.KNNWithMeans"
   ]
  },
  {
   "cell_type": "code",
   "execution_count": 38,
   "id": "8565db9f",
   "metadata": {},
   "outputs": [],
   "source": [
    "from surprise.model_selection import GridSearchCV"
   ]
  },
  {
   "cell_type": "code",
   "execution_count": 39,
   "id": "acfd7550",
   "metadata": {},
   "outputs": [],
   "source": [
    "grid_search = GridSearchCV(algo,param_grid=param_grid,\n",
    "                          measures=['RMSE','MAE'])"
   ]
  },
  {
   "cell_type": "code",
   "execution_count": 40,
   "id": "8eb54a90",
   "metadata": {},
   "outputs": [
    {
     "name": "stdout",
     "output_type": "stream",
     "text": [
      "Computing the msd similarity matrix...\n",
      "Done computing similarity matrix.\n",
      "Computing the msd similarity matrix...\n",
      "Done computing similarity matrix.\n",
      "Computing the msd similarity matrix...\n",
      "Done computing similarity matrix.\n",
      "Computing the msd similarity matrix...\n",
      "Done computing similarity matrix.\n",
      "Computing the msd similarity matrix...\n",
      "Done computing similarity matrix.\n",
      "Computing the cosine similarity matrix...\n",
      "Done computing similarity matrix.\n",
      "Computing the cosine similarity matrix...\n",
      "Done computing similarity matrix.\n",
      "Computing the cosine similarity matrix...\n",
      "Done computing similarity matrix.\n",
      "Computing the cosine similarity matrix...\n",
      "Done computing similarity matrix.\n",
      "Computing the cosine similarity matrix...\n",
      "Done computing similarity matrix.\n",
      "Computing the msd similarity matrix...\n",
      "Done computing similarity matrix.\n",
      "Computing the msd similarity matrix...\n",
      "Done computing similarity matrix.\n",
      "Computing the msd similarity matrix...\n",
      "Done computing similarity matrix.\n",
      "Computing the msd similarity matrix...\n",
      "Done computing similarity matrix.\n",
      "Computing the msd similarity matrix...\n",
      "Done computing similarity matrix.\n",
      "Computing the cosine similarity matrix...\n",
      "Done computing similarity matrix.\n",
      "Computing the cosine similarity matrix...\n",
      "Done computing similarity matrix.\n",
      "Computing the cosine similarity matrix...\n",
      "Done computing similarity matrix.\n",
      "Computing the cosine similarity matrix...\n",
      "Done computing similarity matrix.\n",
      "Computing the cosine similarity matrix...\n",
      "Done computing similarity matrix.\n"
     ]
    }
   ],
   "source": [
    "grid_search.fit(mr_train)"
   ]
  },
  {
   "cell_type": "code",
   "execution_count": 41,
   "id": "c4c65289",
   "metadata": {},
   "outputs": [
    {
     "data": {
      "text/plain": [
       "2"
      ]
     },
     "execution_count": 41,
     "metadata": {},
     "output_type": "execute_result"
    }
   ],
   "source": [
    "mr_trainset.to_inner_iid(1061)"
   ]
  },
  {
   "cell_type": "code",
   "execution_count": null,
   "id": "a0a3860a",
   "metadata": {},
   "outputs": [],
   "source": [
    "print()"
   ]
  },
  {
   "cell_type": "code",
   "execution_count": null,
   "id": "01572469",
   "metadata": {},
   "outputs": [],
   "source": []
  },
  {
   "cell_type": "code",
   "execution_count": null,
   "id": "5507c41a",
   "metadata": {},
   "outputs": [],
   "source": []
  },
  {
   "cell_type": "code",
   "execution_count": null,
   "id": "07fc59d8",
   "metadata": {},
   "outputs": [],
   "source": []
  },
  {
   "cell_type": "code",
   "execution_count": null,
   "id": "a29f07ce",
   "metadata": {},
   "outputs": [],
   "source": []
  },
  {
   "cell_type": "code",
   "execution_count": null,
   "id": "c475d2de",
   "metadata": {},
   "outputs": [],
   "source": []
  },
  {
   "cell_type": "code",
   "execution_count": null,
   "id": "fcc19956",
   "metadata": {},
   "outputs": [],
   "source": []
  },
  {
   "cell_type": "code",
   "execution_count": null,
   "id": "2235f5d6",
   "metadata": {},
   "outputs": [],
   "source": []
  },
  {
   "cell_type": "code",
   "execution_count": null,
   "id": "4f4cb6f2",
   "metadata": {},
   "outputs": [],
   "source": []
  },
  {
   "cell_type": "code",
   "execution_count": null,
   "id": "649c7116",
   "metadata": {},
   "outputs": [],
   "source": []
  },
  {
   "cell_type": "markdown",
   "id": "fe9948a4",
   "metadata": {},
   "source": [
    "# SVD"
   ]
  },
  {
   "cell_type": "code",
   "execution_count": 42,
   "id": "35b5250d",
   "metadata": {},
   "outputs": [],
   "source": [
    "from surprise import SVD"
   ]
  },
  {
   "cell_type": "code",
   "execution_count": 43,
   "id": "2403e1b9",
   "metadata": {},
   "outputs": [],
   "source": [
    "modelsvd= SVD(n_factors=20)"
   ]
  },
  {
   "cell_type": "code",
   "execution_count": 44,
   "id": "99c52904",
   "metadata": {},
   "outputs": [
    {
     "data": {
      "text/plain": [
       "<surprise.prediction_algorithms.matrix_factorization.SVD at 0x2408bc99280>"
      ]
     },
     "execution_count": 44,
     "metadata": {},
     "output_type": "execute_result"
    }
   ],
   "source": [
    "modelsvd.fit(mr_trainset)"
   ]
  },
  {
   "cell_type": "code",
   "execution_count": 45,
   "id": "17d52607",
   "metadata": {},
   "outputs": [
    {
     "data": {
      "text/html": [
       "<div>\n",
       "<style scoped>\n",
       "    .dataframe tbody tr th:only-of-type {\n",
       "        vertical-align: middle;\n",
       "    }\n",
       "\n",
       "    .dataframe tbody tr th {\n",
       "        vertical-align: top;\n",
       "    }\n",
       "\n",
       "    .dataframe thead th {\n",
       "        text-align: right;\n",
       "    }\n",
       "</style>\n",
       "<table border=\"1\" class=\"dataframe\">\n",
       "  <thead>\n",
       "    <tr style=\"text-align: right;\">\n",
       "      <th></th>\n",
       "      <th>user</th>\n",
       "      <th>item</th>\n",
       "      <th>rating</th>\n",
       "    </tr>\n",
       "  </thead>\n",
       "  <tbody>\n",
       "    <tr>\n",
       "      <th>0</th>\n",
       "      <td>1</td>\n",
       "      <td>31</td>\n",
       "      <td>2.5</td>\n",
       "    </tr>\n",
       "    <tr>\n",
       "      <th>1</th>\n",
       "      <td>1</td>\n",
       "      <td>1029</td>\n",
       "      <td>3.0</td>\n",
       "    </tr>\n",
       "    <tr>\n",
       "      <th>2</th>\n",
       "      <td>1</td>\n",
       "      <td>1061</td>\n",
       "      <td>3.0</td>\n",
       "    </tr>\n",
       "    <tr>\n",
       "      <th>3</th>\n",
       "      <td>1</td>\n",
       "      <td>1129</td>\n",
       "      <td>2.0</td>\n",
       "    </tr>\n",
       "    <tr>\n",
       "      <th>4</th>\n",
       "      <td>1</td>\n",
       "      <td>1172</td>\n",
       "      <td>4.0</td>\n",
       "    </tr>\n",
       "  </tbody>\n",
       "</table>\n",
       "</div>"
      ],
      "text/plain": [
       "   user  item  rating\n",
       "0     1    31     2.5\n",
       "1     1  1029     3.0\n",
       "2     1  1061     3.0\n",
       "3     1  1129     2.0\n",
       "4     1  1172     4.0"
      ]
     },
     "execution_count": 45,
     "metadata": {},
     "output_type": "execute_result"
    }
   ],
   "source": [
    "mr.head()"
   ]
  },
  {
   "cell_type": "code",
   "execution_count": 46,
   "id": "1a23aff2",
   "metadata": {},
   "outputs": [
    {
     "data": {
      "text/plain": [
       "Prediction(uid=1, iid=31, r_ui=None, est=2.4131981882879603, details={'was_impossible': False})"
      ]
     },
     "execution_count": 46,
     "metadata": {},
     "output_type": "execute_result"
    }
   ],
   "source": [
    "modelsvd.predict(uid=1,iid=31)"
   ]
  },
  {
   "cell_type": "code",
   "execution_count": 54,
   "id": "a98413cb",
   "metadata": {},
   "outputs": [
    {
     "name": "stdout",
     "output_type": "stream",
     "text": [
      "RMSE: 0.8948\n",
      "MAE:  0.6899\n",
      "RMSE: 0.9028\n",
      "MAE:  0.6956\n",
      "RMSE: 0.8956\n",
      "MAE:  0.6898\n"
     ]
    }
   ],
   "source": [
    "#number of folds\n",
    "\n",
    "kf= KFold(n_splits=3)\n",
    "\n",
    "model = SVD(n_factors=20)\n",
    "\n",
    "for trainset ,testset in kf.split(mr_train):\n",
    "    model.fit(trainset)\n",
    "    predictions = model.test(testset)\n",
    "    \n",
    "    accuracy.rmse(predictions,verbose=True)\n",
    "    accuracy.mae(predictions,verbose= True)"
   ]
  },
  {
   "cell_type": "markdown",
   "id": "48451a4a",
   "metadata": {},
   "source": [
    "# NMF"
   ]
  },
  {
   "cell_type": "code",
   "execution_count": 47,
   "id": "ae0d4c8e",
   "metadata": {},
   "outputs": [],
   "source": [
    "from surprise import NMF"
   ]
  },
  {
   "cell_type": "code",
   "execution_count": 51,
   "id": "7d0afc98",
   "metadata": {},
   "outputs": [],
   "source": [
    "modelnmf = NMF(n_factors=20,biased= True)"
   ]
  },
  {
   "cell_type": "code",
   "execution_count": 52,
   "id": "10de5558",
   "metadata": {},
   "outputs": [
    {
     "data": {
      "text/plain": [
       "<surprise.prediction_algorithms.matrix_factorization.NMF at 0x24089474be0>"
      ]
     },
     "execution_count": 52,
     "metadata": {},
     "output_type": "execute_result"
    }
   ],
   "source": [
    "modelnmf.fit(mr_trainset)"
   ]
  },
  {
   "cell_type": "code",
   "execution_count": 53,
   "id": "e0d3fe73",
   "metadata": {},
   "outputs": [
    {
     "data": {
      "text/plain": [
       "Prediction(uid=1, iid=31, r_ui=None, est=1.5282941377376014, details={'was_impossible': False})"
      ]
     },
     "execution_count": 53,
     "metadata": {},
     "output_type": "execute_result"
    }
   ],
   "source": [
    "modelnmf.predict(uid=1,iid=31)"
   ]
  },
  {
   "cell_type": "code",
   "execution_count": 55,
   "id": "65edb89e",
   "metadata": {},
   "outputs": [
    {
     "name": "stdout",
     "output_type": "stream",
     "text": [
      "RMSE: 2.0084\n",
      "MAE:  1.6521\n",
      "RMSE: 1.3509\n",
      "MAE:  1.0284\n",
      "RMSE: 1.3698\n",
      "MAE:  1.0393\n"
     ]
    }
   ],
   "source": [
    "#number of folds\n",
    "\n",
    "kf= KFold(n_splits=3)\n",
    "\n",
    "model = NMF(n_factors=20,biased=True)\n",
    "\n",
    "for trainset ,testset in kf.split(mr_train):\n",
    "    model.fit(trainset)\n",
    "    predictions = model.test(testset)\n",
    "    \n",
    "    accuracy.rmse(predictions,verbose=True)\n",
    "    accuracy.mae(predictions,verbose= True)"
   ]
  },
  {
   "cell_type": "code",
   "execution_count": 56,
   "id": "c1f4e9e1",
   "metadata": {},
   "outputs": [],
   "source": [
    "param_grid={'n_factors':[15,20,25,30]}\n",
    "algo= SVD"
   ]
  },
  {
   "cell_type": "code",
   "execution_count": 57,
   "id": "3000d0a5",
   "metadata": {},
   "outputs": [],
   "source": [
    "gridsearch = GridSearchCV(SVD, param_grid=param_grid,\n",
    "                         measures=['rmse','mae'])"
   ]
  },
  {
   "cell_type": "code",
   "execution_count": 58,
   "id": "2de4f754",
   "metadata": {},
   "outputs": [],
   "source": [
    "gridsearch.fit(mr_train)"
   ]
  },
  {
   "cell_type": "code",
   "execution_count": 59,
   "id": "d0214696",
   "metadata": {},
   "outputs": [
    {
     "name": "stdout",
     "output_type": "stream",
     "text": [
      "{'n_factors': 25}\n",
      "{'n_factors': 15}\n"
     ]
    }
   ],
   "source": [
    "print(gridsearch.best_params['rmse'])\n",
    "print(gridsearch.best_params['mae'])"
   ]
  },
  {
   "cell_type": "code",
   "execution_count": 60,
   "id": "d509b9ea",
   "metadata": {},
   "outputs": [
    {
     "name": "stdout",
     "output_type": "stream",
     "text": [
      "0.8906138037568553\n",
      "0.6854107082309696\n"
     ]
    }
   ],
   "source": [
    "print(gridsearch.best_score['rmse'])\n",
    "print(gridsearch.best_score['mae'])"
   ]
  },
  {
   "cell_type": "code",
   "execution_count": null,
   "id": "1e4ca60e",
   "metadata": {},
   "outputs": [],
   "source": []
  }
 ],
 "metadata": {
  "kernelspec": {
   "display_name": "Python 3",
   "language": "python",
   "name": "python3"
  },
  "language_info": {
   "codemirror_mode": {
    "name": "ipython",
    "version": 3
   },
   "file_extension": ".py",
   "mimetype": "text/x-python",
   "name": "python",
   "nbconvert_exporter": "python",
   "pygments_lexer": "ipython3",
   "version": "3.8.8"
  }
 },
 "nbformat": 4,
 "nbformat_minor": 5
}
